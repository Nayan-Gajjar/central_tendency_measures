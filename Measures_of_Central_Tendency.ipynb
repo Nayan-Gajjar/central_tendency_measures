{
 "cells": [
  {
   "cell_type": "raw",
   "id": "a729c0db",
   "metadata": {},
   "source": [
    "# -*- coding: utf-8 -*-\n",
    "################################################################################\n",
    "# Author: Nayan Gajjar [Wildest Imagination]\n",
    "# Version: 1.0\n",
    "# Maintainer: Nayan Gajjar [Wildest Imagination]\n",
    "# Email: nayan@wildestimagination.dev\n",
    "################################################################################"
   ]
  },
  {
   "cell_type": "raw",
   "id": "ba2ec0d5",
   "metadata": {},
   "source": [
    "Import Packages"
   ]
  },
  {
   "cell_type": "code",
   "execution_count": 1,
   "id": "4cf7a3ac",
   "metadata": {},
   "outputs": [],
   "source": [
    "import random\n",
    "import numpy\n",
    "import statistics\n",
    "import scipy\n",
    "from scipy import stats\n",
    "import pandas as pd"
   ]
  },
  {
   "cell_type": "markdown",
   "id": "d1d3bd95",
   "metadata": {},
   "source": [
    "<h2 style=\"color:red;\"> Means </h2>"
   ]
  },
  {
   "cell_type": "code",
   "execution_count": 2,
   "id": "afbb9254",
   "metadata": {},
   "outputs": [],
   "source": [
    "# Generate 100 random numbers\n",
    "random_list = random.sample(range(0, 1000), 100)"
   ]
  },
  {
   "cell_type": "markdown",
   "id": "5a707d28",
   "metadata": {},
   "source": [
    "<h3 style=\"color:green;\"> Arithmetic Mean </h3>"
   ]
  },
  {
   "cell_type": "code",
   "execution_count": 3,
   "id": "16f052b1",
   "metadata": {},
   "outputs": [
    {
     "name": "stdout",
     "output_type": "stream",
     "text": [
      "Arithmetic Mean Using Numpy Package.....481.12\n",
      "Arithmetic Mean Using SciPy Package.....481.12\n",
      "Arithmetic Mean Using Statistics Package.....481.12\n",
      "Arithmetic Mean Using Manual Calculation.....481.12\n"
     ]
    },
    {
     "name": "stderr",
     "output_type": "stream",
     "text": [
      "C:\\Users\\nayan\\AppData\\Local\\Temp/ipykernel_19132/3653387171.py:6: DeprecationWarning: scipy.mean is deprecated and will be removed in SciPy 2.0.0, use numpy.mean instead\n",
      "  arithmetic_mean_scipy = scipy.mean(random_list)\n"
     ]
    }
   ],
   "source": [
    "# Using Numpy Package...........................................\n",
    "arithmetic_mean_numpy = numpy.mean(random_list)\n",
    "print(\"Arithmetic Mean Using Numpy Package.....{}\".format(arithmetic_mean_numpy))\n",
    "\n",
    "# Using SciPy Package...........................................\n",
    "arithmetic_mean_scipy = scipy.mean(random_list)\n",
    "print(\"Arithmetic Mean Using SciPy Package.....{}\".format(arithmetic_mean_scipy))\n",
    "\n",
    "# Using Statistics Package......................................\n",
    "arithmetic_mean_statistics = statistics.mean(random_list)\n",
    "print(\"Arithmetic Mean Using Statistics Package.....{}\".format(arithmetic_mean_statistics))\n",
    "\n",
    "# Manual calculation............................................\n",
    "arithmetic_mean_manual = sum(random_list) / len(random_list)\n",
    "print(\"Arithmetic Mean Using Manual Calculation.....{}\".format(arithmetic_mean_manual))"
   ]
  },
  {
   "cell_type": "markdown",
   "id": "ca7c121e",
   "metadata": {},
   "source": [
    "<h3 style=\"color:green;\"> Geometric Mean </h3>"
   ]
  },
  {
   "cell_type": "code",
   "execution_count": 4,
   "id": "aa1e5af3",
   "metadata": {},
   "outputs": [
    {
     "name": "stdout",
     "output_type": "stream",
     "text": [
      "Geometric Mean Using Scipy Package.....359.2469033822961\n",
      "Geometric Mean Using Statistics Package.....359.24690338229584\n",
      "Geometric Mean Using Manual Calculation.....359.2469033822961\n"
     ]
    }
   ],
   "source": [
    "# Using Numpy Package...........................................\n",
    "geometric_mean_scipy = stats.mstats.gmean(random_list)\n",
    "print(\"Geometric Mean Using Scipy Package.....{}\".format(geometric_mean_scipy))\n",
    "\n",
    "# Using SciPy Package...........................................\n",
    "geometric_mean_statistics = statistics.geometric_mean(random_list)\n",
    "print(\"Geometric Mean Using Statistics Package.....{}\".format(geometric_mean_statistics))\n",
    "\n",
    "# Manual calculation............................................\n",
    "geometric_mean_manual = numpy.exp(numpy.mean(numpy.log(random_list)))\n",
    "print(\"Geometric Mean Using Manual Calculation.....{}\".format(geometric_mean_manual))"
   ]
  },
  {
   "cell_type": "markdown",
   "id": "0044d786",
   "metadata": {},
   "source": [
    "<h3 style=\"color:green;\"> Harmonic Mean </h3>"
   ]
  },
  {
   "cell_type": "code",
   "execution_count": 5,
   "id": "80a8dfd0",
   "metadata": {},
   "outputs": [
    {
     "name": "stdout",
     "output_type": "stream",
     "text": [
      "Hormonic Mean Using Scipy Package.....196.98008336219442\n",
      "Hormonic Mean Using Statistics Package.....196.98008336219442\n",
      "Hormonic Mean Using Manual Calculation.....196.98008336219442\n"
     ]
    }
   ],
   "source": [
    "# Using Scipy Package...........................................\n",
    "harmonic_mean_scipy = stats.hmean(random_list)\n",
    "print(\"Hormonic Mean Using Scipy Package.....{}\".format(harmonic_mean_scipy))\n",
    "\n",
    "# Using Statistics Package...........................................\n",
    "harmonic_mean_statistics = statistics.harmonic_mean(random_list)\n",
    "print(\"Hormonic Mean Using Statistics Package.....{}\".format(harmonic_mean_statistics))\n",
    "\n",
    "# Manual calculation............................................\n",
    "# We need to explicitly convert integers to float else reciprocal function will\n",
    "# give 0 only\n",
    "random_list = [float(x) for x in random_list]\n",
    "harmonic_mean_manual = len(random_list) / numpy.sum(numpy.reciprocal(random_list))\n",
    "print(\"Hormonic Mean Using Manual Calculation.....{}\".format(harmonic_mean_manual))"
   ]
  },
  {
   "cell_type": "markdown",
   "id": "2689b2fa",
   "metadata": {},
   "source": [
    "<h2 style=\"color:red;\"> Median </h2>"
   ]
  },
  {
   "cell_type": "code",
   "execution_count": 6,
   "id": "642c0f12",
   "metadata": {},
   "outputs": [
    {
     "name": "stdout",
     "output_type": "stream",
     "text": [
      "Median of Odd Numbers Using Statistic Package.....5\n",
      "Median of Even Numbers Using Statistic Package.....4.5\n",
      "Median of Odd Numbers Using Numpy Package.....5.0\n",
      "Median of Even Numbers Using Numpy Package.....4.5\n",
      "Median of Odd Numbers Using Scipy Package.....5.0\n",
      "Median of Even Numbers Using SCipy Package.....4.5\n"
     ]
    },
    {
     "name": "stderr",
     "output_type": "stream",
     "text": [
      "C:\\Users\\nayan\\AppData\\Local\\Temp/ipykernel_19132/1628859266.py:20: DeprecationWarning: scipy.nanmedian is deprecated and will be removed in SciPy 2.0.0, use numpy.nanmedian instead\n",
      "  odd_median_scipy = scipy.nanmedian(randomlist_odd)\n",
      "C:\\Users\\nayan\\AppData\\Local\\Temp/ipykernel_19132/1628859266.py:23: DeprecationWarning: scipy.nanmedian is deprecated and will be removed in SciPy 2.0.0, use numpy.nanmedian instead\n",
      "  even_median_scipy = scipy.nanmedian(randomlist_even)\n"
     ]
    }
   ],
   "source": [
    "# generate 10 random numbers between 0 and 1000\n",
    "randomlist_even = random.sample(range(0, 10), 10)\n",
    "\n",
    "# generate 9 random numbers between 0 and 1000\n",
    "randomlist_odd = random.sample(range(0, 10), 9)\n",
    "\n",
    "# Median using different packages  -------------------------------------------------------------------------\n",
    "odd_median_statistics = statistics.median(randomlist_odd)\n",
    "print(\"Median of Odd Numbers Using Statistic Package.....{}\".format(odd_median_statistics))\n",
    "\n",
    "even_median_statistics = statistics.median(randomlist_even)\n",
    "print(\"Median of Even Numbers Using Statistic Package.....{}\".format(even_median_statistics))\n",
    "\n",
    "odd_median_numpy = numpy.median(randomlist_odd)\n",
    "print(\"Median of Odd Numbers Using Numpy Package.....{}\".format(odd_median_numpy))\n",
    "\n",
    "even_median_numpy = numpy.median(randomlist_even)\n",
    "print(\"Median of Even Numbers Using Numpy Package.....{}\".format(even_median_numpy))\n",
    "\n",
    "odd_median_scipy = scipy.nanmedian(randomlist_odd)\n",
    "print(\"Median of Odd Numbers Using Scipy Package.....{}\".format(odd_median_scipy))\n",
    "\n",
    "even_median_scipy = scipy.nanmedian(randomlist_even)\n",
    "print(\"Median of Even Numbers Using SCipy Package.....{}\".format(even_median_scipy))\n"
   ]
  },
  {
   "cell_type": "markdown",
   "id": "4ba8ad33",
   "metadata": {},
   "source": [
    "<h2 style=\"color:red;\"> Mode </h2>"
   ]
  },
  {
   "cell_type": "code",
   "execution_count": 7,
   "id": "9f1528f3",
   "metadata": {},
   "outputs": [
    {
     "name": "stdout",
     "output_type": "stream",
     "text": [
      "Mode of Numbers Using Statistics Package.....4\n",
      "Mode of Numbers Using Scipy Package.....ModeResult(mode=array([4]), count=array([3]))\n",
      "Mode of Categories Using Statistics Package.....few\n",
      "Mode of Categories Using Scipy Package.....ModeResult(mode=array(['few'], dtype='<U4'), count=array([2]))\n"
     ]
    }
   ],
   "source": [
    "# Random List...................................................\n",
    "randomlist = [1, 2, 3, 3, 4, 4, 4, 5, 5, 6]\n",
    "\n",
    "# Categorical Data..............................................\n",
    "cat_data = [\"few\", \"few\", \"many\", \"some\", \"many\"]\n",
    "\n",
    "# Using Statistics Package......................................\n",
    "mode_numeric_statistics = statistics.mode(randomlist)\n",
    "print(\"Mode of Numbers Using Statistics Package.....{}\".format(mode_numeric_statistics))\n",
    "\n",
    "# Using SciPy Package...........................................\n",
    "mode_numeric_scipy = stats.mode(randomlist)\n",
    "print(\"Mode of Numbers Using Scipy Package.....{}\".format(mode_numeric_scipy))\n",
    "\n",
    "# It will give \"few\" only but in actual we have \"many\" as well, as mode\n",
    "# Using Statistics Package......................................\n",
    "mode_cat_statistics = statistics.mode(cat_data)\n",
    "print(\"Mode of Categories Using Statistics Package.....{}\".format(mode_cat_statistics))\n",
    "\n",
    "# Using SciPy Package...........................................\n",
    "mode_cat_scipy = stats.mode(cat_data)\n",
    "print(\"Mode of Categories Using Scipy Package.....{}\".format(mode_cat_scipy))\n"
   ]
  },
  {
   "cell_type": "markdown",
   "id": "1396b5e4",
   "metadata": {},
   "source": [
    "<h2 style=\"color:red;\"> Pandas DataFrame </h2>\n",
    "\n",
    "<p>\n",
    "    Read the dataframe available at below URL, at the bottom of the page.\n",
    "    <br>\n",
    "    <a target=\"_blank\" href=https://wildestimagination.dev/blog/measures-of-central-tendency/>Wildest Imagination</a>\n",
    "</p>"
   ]
  },
  {
   "cell_type": "code",
   "execution_count": 8,
   "id": "f8bf1a18",
   "metadata": {},
   "outputs": [],
   "source": [
    "# Reading first 100 rows. Rest of the rows contains descriptive statistics in excel.\n",
    "df = pd.read_excel(\"..\\\\Descriptive_Statistics.xlsx\", nrows=100)"
   ]
  },
  {
   "cell_type": "code",
   "execution_count": 9,
   "id": "a4bc1197",
   "metadata": {},
   "outputs": [
    {
     "data": {
      "text/html": [
       "<div>\n",
       "<style scoped>\n",
       "    .dataframe tbody tr th:only-of-type {\n",
       "        vertical-align: middle;\n",
       "    }\n",
       "\n",
       "    .dataframe tbody tr th {\n",
       "        vertical-align: top;\n",
       "    }\n",
       "\n",
       "    .dataframe thead th {\n",
       "        text-align: right;\n",
       "    }\n",
       "</style>\n",
       "<table border=\"1\" class=\"dataframe\">\n",
       "  <thead>\n",
       "    <tr style=\"text-align: right;\">\n",
       "      <th></th>\n",
       "      <th>Student Sr. No.</th>\n",
       "      <th>Mathematics</th>\n",
       "      <th>English</th>\n",
       "    </tr>\n",
       "  </thead>\n",
       "  <tbody>\n",
       "    <tr>\n",
       "      <th>0</th>\n",
       "      <td>1</td>\n",
       "      <td>42</td>\n",
       "      <td>84</td>\n",
       "    </tr>\n",
       "    <tr>\n",
       "      <th>1</th>\n",
       "      <td>2</td>\n",
       "      <td>55</td>\n",
       "      <td>82</td>\n",
       "    </tr>\n",
       "    <tr>\n",
       "      <th>2</th>\n",
       "      <td>3</td>\n",
       "      <td>43</td>\n",
       "      <td>84</td>\n",
       "    </tr>\n",
       "    <tr>\n",
       "      <th>3</th>\n",
       "      <td>4</td>\n",
       "      <td>42</td>\n",
       "      <td>80</td>\n",
       "    </tr>\n",
       "    <tr>\n",
       "      <th>4</th>\n",
       "      <td>5</td>\n",
       "      <td>76</td>\n",
       "      <td>75</td>\n",
       "    </tr>\n",
       "    <tr>\n",
       "      <th>...</th>\n",
       "      <td>...</td>\n",
       "      <td>...</td>\n",
       "      <td>...</td>\n",
       "    </tr>\n",
       "    <tr>\n",
       "      <th>95</th>\n",
       "      <td>96</td>\n",
       "      <td>54</td>\n",
       "      <td>81</td>\n",
       "    </tr>\n",
       "    <tr>\n",
       "      <th>96</th>\n",
       "      <td>97</td>\n",
       "      <td>47</td>\n",
       "      <td>77</td>\n",
       "    </tr>\n",
       "    <tr>\n",
       "      <th>97</th>\n",
       "      <td>98</td>\n",
       "      <td>47</td>\n",
       "      <td>81</td>\n",
       "    </tr>\n",
       "    <tr>\n",
       "      <th>98</th>\n",
       "      <td>99</td>\n",
       "      <td>59</td>\n",
       "      <td>75</td>\n",
       "    </tr>\n",
       "    <tr>\n",
       "      <th>99</th>\n",
       "      <td>100</td>\n",
       "      <td>50</td>\n",
       "      <td>80</td>\n",
       "    </tr>\n",
       "  </tbody>\n",
       "</table>\n",
       "<p>100 rows × 3 columns</p>\n",
       "</div>"
      ],
      "text/plain": [
       "    Student Sr. No.  Mathematics  English\n",
       "0                 1           42       84\n",
       "1                 2           55       82\n",
       "2                 3           43       84\n",
       "3                 4           42       80\n",
       "4                 5           76       75\n",
       "..              ...          ...      ...\n",
       "95               96           54       81\n",
       "96               97           47       77\n",
       "97               98           47       81\n",
       "98               99           59       75\n",
       "99              100           50       80\n",
       "\n",
       "[100 rows x 3 columns]"
      ]
     },
     "execution_count": 9,
     "metadata": {},
     "output_type": "execute_result"
    }
   ],
   "source": [
    "df"
   ]
  },
  {
   "cell_type": "markdown",
   "id": "6ab81526",
   "metadata": {},
   "source": [
    "<h4 style=\"color:blue;\"> Meaures of Central Tendency for Mathematics subject </h4>"
   ]
  },
  {
   "cell_type": "code",
   "execution_count": 10,
   "id": "4208fcf9",
   "metadata": {},
   "outputs": [
    {
     "name": "stdout",
     "output_type": "stream",
     "text": [
      "Arithmetic Mean of Mathemtics Subject is.....49.93\n",
      "Geometric Mean of Mathemtics Subject is.....48.65334762187612\n",
      "Harmonic Mean of Mathemtics Subject is.....47.234788503196285\n",
      "Median of Mathemtics Subject is.....50.0\n",
      "Mode of Mathemtics Subject is.....50\n"
     ]
    }
   ],
   "source": [
    "# Meaures of Central Tendency for Mathematics subject\n",
    "\n",
    "# Arithmetic Mean.....................................................................\n",
    "maths_arithmetic = df.Mathematics.mean()\n",
    "print(f\"Arithmetic Mean of Mathemtics Subject is.....{maths_arithmetic}\")\n",
    "\n",
    "# Geometric Mean using SciPy package, Pandas does not contain a function for the same\n",
    "maths_geometric = stats.mstats.gmean(df.Mathematics)\n",
    "print(f\"Geometric Mean of Mathemtics Subject is.....{maths_geometric}\")\n",
    "\n",
    "# Harmonic Mean using SciPy package, Pandas does not contain a function for the same\n",
    "maths_harmonic = stats.hmean(df.Mathematics)\n",
    "print(f\"Harmonic Mean of Mathemtics Subject is.....{maths_harmonic}\")\n",
    "\n",
    "# Median.............................................................................\n",
    "maths_median = df.Mathematics.median()\n",
    "print(f\"Median of Mathemtics Subject is.....{maths_median}\")\n",
    "\n",
    "# Mode...............................................................................\n",
    "maths_mode = df.Mathematics.mode()\n",
    "print(f\"Mode of Mathemtics Subject is.....{maths_mode[0]}\")"
   ]
  },
  {
   "cell_type": "markdown",
   "id": "03f2d566",
   "metadata": {},
   "source": [
    "<h4 style=\"color:blue;\"> Meaures of Central Tendency for English subject </h4>"
   ]
  },
  {
   "cell_type": "code",
   "execution_count": 11,
   "id": "4645eff9",
   "metadata": {},
   "outputs": [
    {
     "name": "stdout",
     "output_type": "stream",
     "text": [
      "Arithmetic Mean of Mathemtics Subject is.....80.0\n",
      "Geometric Mean of Mathemtics Subject is.....79.94423589054887\n",
      "Harmonic Mean of Mathemtics Subject is.....79.88870083175291\n",
      "Median of Mathemtics Subject is.....80.0\n",
      "Mode of Mathemtics Subject is.....79\n"
     ]
    }
   ],
   "source": [
    "# Meaures of Central Tendency for English subject\n",
    "\n",
    "# Arithmetic Mean\n",
    "eng_arithmetic = df.English.mean()\n",
    "print(f\"Arithmetic Mean of Mathemtics Subject is.....{eng_arithmetic}\")\n",
    "\n",
    "# Geometric Mean using SciPy package, Pandas does not contain a function for the same\n",
    "eng_geometric = stats.mstats.gmean(df.English)\n",
    "print(f\"Geometric Mean of Mathemtics Subject is.....{eng_geometric}\")\n",
    "\n",
    "# Harmonic Mean using SciPy package, Pandas does not contain a function for the same\n",
    "eng_harmonic = stats.hmean(df.English)\n",
    "print(f\"Harmonic Mean of Mathemtics Subject is.....{eng_harmonic}\")\n",
    "\n",
    "# Median\n",
    "eng_median = df.English.median()\n",
    "print(f\"Median of Mathemtics Subject is.....{eng_median}\")\n",
    "\n",
    "# Mode\n",
    "eng_mode = df.English.mode()\n",
    "print(f\"Mode of Mathemtics Subject is.....{eng_mode[0]}\")"
   ]
  }
 ],
 "metadata": {
  "kernelspec": {
   "display_name": "Python 3 (ipykernel)",
   "language": "python",
   "name": "python3"
  },
  "language_info": {
   "codemirror_mode": {
    "name": "ipython",
    "version": 3
   },
   "file_extension": ".py",
   "mimetype": "text/x-python",
   "name": "python",
   "nbconvert_exporter": "python",
   "pygments_lexer": "ipython3",
   "version": "3.10.0"
  },
  "notebook_details": {
   "author": "Nayan Gajjar [Wildest Imagination]",
   "coding": "utf-8",
   "email": "nayan@wildestimagination.dev",
   "maintainer": "Nayan Gajjar [Wildest Imagination]",
   "version": "1.0"
  }
 },
 "nbformat": 4,
 "nbformat_minor": 5
}
