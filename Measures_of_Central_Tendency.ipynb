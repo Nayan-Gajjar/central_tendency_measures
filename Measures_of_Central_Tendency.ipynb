{
 "cells": [
  {
   "cell_type": "raw",
   "id": "1a8a671f",
   "metadata": {},
   "source": [
    "# -*- coding: utf-8 -*-\n",
    "################################################################################\n",
    "# Author: Nayan Gajjar [Wildest Imagination]\n",
    "# Version: 1.0\n",
    "# Maintainer: Nayan Gajjar [Wildest Imagination]\n",
    "# Email: nayan@wildestimagination.dev\n",
    "################################################################################"
   ]
  },
  {
   "cell_type": "raw",
   "id": "42b94493",
   "metadata": {},
   "source": [
    "Import Packages"
   ]
  },
  {
   "cell_type": "code",
   "execution_count": 1,
   "id": "2d081134",
   "metadata": {},
   "outputs": [],
   "source": [
    "import random\n",
    "import numpy\n",
    "import statistics\n",
    "import scipy\n",
    "from scipy import stats"
   ]
  },
  {
   "cell_type": "markdown",
   "id": "ca4ceb65",
   "metadata": {},
   "source": [
    "<h2 style=\"color:red;\"> Means </h2>"
   ]
  },
  {
   "cell_type": "code",
   "execution_count": 2,
   "id": "8b6c10aa",
   "metadata": {},
   "outputs": [],
   "source": [
    "# Generate 100 random numbers\n",
    "random_list = random.sample(range(0, 1000), 100)"
   ]
  },
  {
   "cell_type": "markdown",
   "id": "1db0ea13",
   "metadata": {},
   "source": [
    "<h3 style=\"color:green;\"> Arithmetic Mean </h3>"
   ]
  },
  {
   "cell_type": "code",
   "execution_count": 3,
   "id": "aceb05a0",
   "metadata": {},
   "outputs": [
    {
     "name": "stdout",
     "output_type": "stream",
     "text": [
      "Arithmetic Mean Using Numpy Package.....522.33\n",
      "Arithmetic Mean Using SciPy Package.....522.33\n",
      "Arithmetic Mean Using Statistics Package.....522.33\n",
      "Arithmetic Mean Using Manual Calculation.....522.33\n"
     ]
    },
    {
     "name": "stderr",
     "output_type": "stream",
     "text": [
      "C:\\Users\\nayan\\AppData\\Local\\Temp/ipykernel_20244/3653387171.py:6: DeprecationWarning: scipy.mean is deprecated and will be removed in SciPy 2.0.0, use numpy.mean instead\n",
      "  arithmetic_mean_scipy = scipy.mean(random_list)\n"
     ]
    }
   ],
   "source": [
    "# Using Numpy Package...........................................\n",
    "arithmetic_mean_numpy = numpy.mean(random_list)\n",
    "print(\"Arithmetic Mean Using Numpy Package.....{}\".format(arithmetic_mean_numpy))\n",
    "\n",
    "# Using SciPy Package...........................................\n",
    "arithmetic_mean_scipy = scipy.mean(random_list)\n",
    "print(\"Arithmetic Mean Using SciPy Package.....{}\".format(arithmetic_mean_scipy))\n",
    "\n",
    "# Using Statistics Package......................................\n",
    "arithmetic_mean_statistics = statistics.mean(random_list)\n",
    "print(\"Arithmetic Mean Using Statistics Package.....{}\".format(arithmetic_mean_statistics))\n",
    "\n",
    "# Manual calculation............................................\n",
    "arithmetic_mean_manual = sum(random_list) / len(random_list)\n",
    "print(\"Arithmetic Mean Using Manual Calculation.....{}\".format(arithmetic_mean_manual))"
   ]
  },
  {
   "cell_type": "markdown",
   "id": "a363989f",
   "metadata": {},
   "source": [
    "<h3 style=\"color:green;\"> Geometric Mean </h3>"
   ]
  },
  {
   "cell_type": "code",
   "execution_count": 4,
   "id": "aaa1e8fc",
   "metadata": {},
   "outputs": [
    {
     "name": "stdout",
     "output_type": "stream",
     "text": [
      "Geometric Mean Using Scipy Package.....408.7035252505206\n",
      "Geometric Mean Using Statistics Package.....408.7035252505199\n",
      "Geometric Mean Using Manual Calculation.....408.7035252505206\n"
     ]
    }
   ],
   "source": [
    "# Using Numpy Package...........................................\n",
    "geometric_mean_scipy = stats.mstats.gmean(random_list)\n",
    "print(\"Geometric Mean Using Scipy Package.....{}\".format(geometric_mean_scipy))\n",
    "\n",
    "# Using SciPy Package...........................................\n",
    "geometric_mean_statistics = statistics.geometric_mean(random_list)\n",
    "print(\"Geometric Mean Using Statistics Package.....{}\".format(geometric_mean_statistics))\n",
    "\n",
    "# Manual calculation............................................\n",
    "geometric_mean_manual = numpy.exp(numpy.mean(numpy.log(random_list)))\n",
    "print(\"Geometric Mean Using Manual Calculation.....{}\".format(geometric_mean_manual))"
   ]
  },
  {
   "cell_type": "markdown",
   "id": "6c8a4786",
   "metadata": {},
   "source": [
    "<h3 style=\"color:green;\"> Harmonic Mean </h3>"
   ]
  },
  {
   "cell_type": "code",
   "execution_count": 5,
   "id": "aa379af2",
   "metadata": {},
   "outputs": [
    {
     "name": "stdout",
     "output_type": "stream",
     "text": [
      "Hormonic Mean Using Scipy Package.....272.45323741844675\n",
      "Hormonic Mean Using Statistics Package.....272.4532374184467\n",
      "Hormonic Mean Using Manual Calculation.....272.45323741844675\n"
     ]
    }
   ],
   "source": [
    "# Using Scipy Package...........................................\n",
    "harmonic_mean_scipy = stats.hmean(random_list)\n",
    "print(\"Hormonic Mean Using Scipy Package.....{}\".format(harmonic_mean_scipy))\n",
    "\n",
    "# Using Statistics Package...........................................\n",
    "harmonic_mean_statistics = statistics.harmonic_mean(random_list)\n",
    "print(\"Hormonic Mean Using Statistics Package.....{}\".format(harmonic_mean_statistics))\n",
    "\n",
    "# Manual calculation............................................\n",
    "# We need to explicitly convert integers to float else reciprocal function will\n",
    "# give 0 only\n",
    "random_list = [float(x) for x in random_list]\n",
    "harmonic_mean_manual = len(random_list) / numpy.sum(numpy.reciprocal(random_list))\n",
    "print(\"Hormonic Mean Using Manual Calculation.....{}\".format(harmonic_mean_manual))"
   ]
  },
  {
   "cell_type": "markdown",
   "id": "6c07ec4a",
   "metadata": {},
   "source": [
    "<h2 style=\"color:red;\"> Median </h2>"
   ]
  },
  {
   "cell_type": "code",
   "execution_count": 6,
   "id": "3b1933f8",
   "metadata": {},
   "outputs": [
    {
     "name": "stdout",
     "output_type": "stream",
     "text": [
      "Median of Odd Numbers Using Statistic Package.....5\n",
      "Median of Even Numbers Using Statistic Package.....4.5\n",
      "Median of Odd Numbers Using Numpy Package.....5.0\n",
      "Median of Even Numbers Using Numpy Package.....4.5\n",
      "Median of Odd Numbers Using Scipy Package.....5.0\n",
      "Median of Even Numbers Using SCipy Package.....4.5\n"
     ]
    },
    {
     "name": "stderr",
     "output_type": "stream",
     "text": [
      "C:\\Users\\nayan\\AppData\\Local\\Temp/ipykernel_20244/1628859266.py:20: DeprecationWarning: scipy.nanmedian is deprecated and will be removed in SciPy 2.0.0, use numpy.nanmedian instead\n",
      "  odd_median_scipy = scipy.nanmedian(randomlist_odd)\n",
      "C:\\Users\\nayan\\AppData\\Local\\Temp/ipykernel_20244/1628859266.py:23: DeprecationWarning: scipy.nanmedian is deprecated and will be removed in SciPy 2.0.0, use numpy.nanmedian instead\n",
      "  even_median_scipy = scipy.nanmedian(randomlist_even)\n"
     ]
    }
   ],
   "source": [
    "# generate 10 random numbers between 0 and 1000\n",
    "randomlist_even = random.sample(range(0, 10), 10)\n",
    "\n",
    "# generate 9 random numbers between 0 and 1000\n",
    "randomlist_odd = random.sample(range(0, 10), 9)\n",
    "\n",
    "# Median using different packages  -------------------------------------------------------------------------\n",
    "odd_median_statistics = statistics.median(randomlist_odd)\n",
    "print(\"Median of Odd Numbers Using Statistic Package.....{}\".format(odd_median_statistics))\n",
    "\n",
    "even_median_statistics = statistics.median(randomlist_even)\n",
    "print(\"Median of Even Numbers Using Statistic Package.....{}\".format(even_median_statistics))\n",
    "\n",
    "odd_median_numpy = numpy.median(randomlist_odd)\n",
    "print(\"Median of Odd Numbers Using Numpy Package.....{}\".format(odd_median_numpy))\n",
    "\n",
    "even_median_numpy = numpy.median(randomlist_even)\n",
    "print(\"Median of Even Numbers Using Numpy Package.....{}\".format(even_median_numpy))\n",
    "\n",
    "odd_median_scipy = scipy.nanmedian(randomlist_odd)\n",
    "print(\"Median of Odd Numbers Using Scipy Package.....{}\".format(odd_median_scipy))\n",
    "\n",
    "even_median_scipy = scipy.nanmedian(randomlist_even)\n",
    "print(\"Median of Even Numbers Using SCipy Package.....{}\".format(even_median_scipy))\n"
   ]
  },
  {
   "cell_type": "markdown",
   "id": "af7ea0c6",
   "metadata": {},
   "source": [
    "<h2 style=\"color:red;\"> Mode </h2>"
   ]
  },
  {
   "cell_type": "code",
   "execution_count": 7,
   "id": "1743736b",
   "metadata": {},
   "outputs": [
    {
     "name": "stdout",
     "output_type": "stream",
     "text": [
      "Mode of Numbers Using Statistics Package.....4\n",
      "Mode of Numbers Using Scipy Package.....ModeResult(mode=array([4]), count=array([3]))\n",
      "Mode of Categories Using Statistics Package.....few\n",
      "Mode of Categories Using Scipy Package.....ModeResult(mode=array(['few'], dtype='<U4'), count=array([2]))\n"
     ]
    }
   ],
   "source": [
    "# Random List...................................................\n",
    "randomlist = [1, 2, 3, 3, 4, 4, 4, 5, 5, 6]\n",
    "\n",
    "# Categorical Data..............................................\n",
    "cat_data = [\"few\", \"few\", \"many\", \"some\", \"many\"]\n",
    "\n",
    "# Using Statistics Package......................................\n",
    "mode_numeric_statistics = statistics.mode(randomlist)\n",
    "print(\"Mode of Numbers Using Statistics Package.....{}\".format(mode_numeric_statistics))\n",
    "\n",
    "# Using SciPy Package...........................................\n",
    "mode_numeric_scipy = stats.mode(randomlist)\n",
    "print(\"Mode of Numbers Using Scipy Package.....{}\".format(mode_numeric_scipy))\n",
    "\n",
    "# It will give \"few\" only but in actual we have \"many\" as well, as mode\n",
    "# Using Statistics Package......................................\n",
    "mode_cat_statistics = statistics.mode(cat_data)\n",
    "print(\"Mode of Categories Using Statistics Package.....{}\".format(mode_cat_statistics))\n",
    "\n",
    "# Using SciPy Package...........................................\n",
    "mode_cat_scipy = stats.mode(cat_data)\n",
    "print(\"Mode of Categories Using Scipy Package.....{}\".format(mode_cat_scipy))\n"
   ]
  }
 ],
 "metadata": {
  "kernelspec": {
   "display_name": "Python 3 (ipykernel)",
   "language": "python",
   "name": "python3"
  },
  "language_info": {
   "codemirror_mode": {
    "name": "ipython",
    "version": 3
   },
   "file_extension": ".py",
   "mimetype": "text/x-python",
   "name": "python",
   "nbconvert_exporter": "python",
   "pygments_lexer": "ipython3",
   "version": "3.10.0"
  },
  "notebook_details": {
   "author": "Nayan Gajjar [Wildest Imagination]",
   "coding": "utf-8",
   "email": "nayan@wildestimagination.dev",
   "maintainer": "Nayan Gajjar [Wildest Imagination]",
   "version": "1.0"
  }
 },
 "nbformat": 4,
 "nbformat_minor": 5
}
